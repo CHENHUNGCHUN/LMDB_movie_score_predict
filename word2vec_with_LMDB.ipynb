{
 "cells": [
  {
   "cell_type": "code",
   "execution_count": 597,
   "id": "fa5d3348",
   "metadata": {},
   "outputs": [
    {
     "name": "stderr",
     "output_type": "stream",
     "text": [
      "[nltk_data] Downloading package stopwords to\n",
      "[nltk_data]     C:\\Users\\kojun\\AppData\\Roaming\\nltk_data...\n",
      "[nltk_data]   Package stopwords is already up-to-date!\n"
     ]
    }
   ],
   "source": [
    "import os\n",
    "import re\n",
    "from tqdm import tqdm\n",
    "import pandas as pd\n",
    "import numpy as np\n",
    "import nltk\n",
    "nltk.download(\"stopwords\")\n",
    "from nltk.corpus import stopwords\n",
    "\n",
    "from sklearn.model_selection import train_test_split\n",
    "from sklearn.utils import shuffle\n",
    "from sklearn.metrics import accuracy_score,confusion_matrix\n",
    "\n",
    "import tensorflow as tf\n",
    "from tensorflow.keras.layers import Flatten,Dense,Dropout,BatchNormalization\n",
    "from tensorflow.keras.regularizers import l2\n",
    "\n",
    "import matplotlib.pyplot as plt\n",
    "\n",
    "from gensim.models.word2vec import Word2Vec"
   ]
  },
  {
   "cell_type": "code",
   "execution_count": 550,
   "id": "78c0c457",
   "metadata": {},
   "outputs": [],
   "source": [
    "train_neg_list = os.listdir('LMDB/aclImdb_v1/aclImdb/train/neg')\n",
    "train_pos_list = os.listdir('LMDB/aclImdb_v1/aclImdb/train/pos')"
   ]
  },
  {
   "cell_type": "code",
   "execution_count": 551,
   "id": "6d6bf69b",
   "metadata": {},
   "outputs": [],
   "source": [
    "pos_path = 'C:/Users/kojun/Desktop/ML/deep learning/文字/LMDB/aclImdb_v1/aclImdb/train/pos/'\n",
    "neg_path = 'C:/Users/kojun/Desktop/ML/deep learning/文字/LMDB/aclImdb_v1/aclImdb/train/neg/'"
   ]
  },
  {
   "cell_type": "markdown",
   "id": "72e4d875",
   "metadata": {},
   "source": [
    "# POS"
   ]
  },
  {
   "cell_type": "code",
   "execution_count": 552,
   "id": "a8befc2b",
   "metadata": {},
   "outputs": [
    {
     "name": "stderr",
     "output_type": "stream",
     "text": [
      "100%|█████████████████████████████████████████████████████████████████████████| 12500/12500 [00:00<00:00, 33418.70it/s]\n"
     ]
    }
   ],
   "source": [
    "one=[]\n",
    "pos_score = []\n",
    "pos_content = []\n",
    "for i in tqdm(range(len(train_pos_list))):\n",
    "    with open(os.path.join(pos_path,train_pos_list[i]),'r',encoding=\"utf-8\") as f:\n",
    "        pos_score.append(int(train_pos_list[i].split('.')[0].split('_')[1]))\n",
    "        pos_content.append(f.read())\n",
    "        one.append('pos')"
   ]
  },
  {
   "cell_type": "markdown",
   "id": "418749fd",
   "metadata": {},
   "source": [
    "# Neg"
   ]
  },
  {
   "cell_type": "code",
   "execution_count": 553,
   "id": "b1b25843",
   "metadata": {},
   "outputs": [
    {
     "name": "stderr",
     "output_type": "stream",
     "text": [
      "100%|█████████████████████████████████████████████████████████████████████████| 12500/12500 [00:00<00:00, 31276.46it/s]\n"
     ]
    }
   ],
   "source": [
    "zero=[]\n",
    "neg_score = []\n",
    "neg_content = []\n",
    "for i in tqdm(range(len(train_pos_list))):\n",
    "    with open(os.path.join(neg_path,train_neg_list[i]),'r',encoding=\"utf-8\") as f:\n",
    "        neg_score.append(int(train_neg_list[i].split('.')[0].split('_')[1]))\n",
    "        neg_content.append(f.read())\n",
    "        zero.append('neg')"
   ]
  },
  {
   "cell_type": "markdown",
   "id": "6afd1b00",
   "metadata": {},
   "source": [
    "# Concat"
   ]
  },
  {
   "cell_type": "code",
   "execution_count": 554,
   "id": "4f0c547d",
   "metadata": {},
   "outputs": [
    {
     "data": {
      "text/plain": [
       "4"
      ]
     },
     "execution_count": 554,
     "metadata": {},
     "output_type": "execute_result"
    }
   ],
   "source": [
    "max(neg_score)"
   ]
  },
  {
   "cell_type": "code",
   "execution_count": 555,
   "id": "1cd65d03",
   "metadata": {},
   "outputs": [],
   "source": [
    "call_content = pos_content+neg_content\n",
    "call_score = pos_score+neg_score\n",
    "call_one_zero = one+zero"
   ]
  },
  {
   "cell_type": "code",
   "execution_count": 556,
   "id": "99122dd0",
   "metadata": {},
   "outputs": [],
   "source": [
    "train = pd.DataFrame()"
   ]
  },
  {
   "cell_type": "code",
   "execution_count": 557,
   "id": "91f7aee2",
   "metadata": {},
   "outputs": [],
   "source": [
    "train['Contain'] = call_content\n",
    "train['score'] = call_score\n",
    "train['ps_ne'] = call_one_zero"
   ]
  },
  {
   "cell_type": "code",
   "execution_count": 558,
   "id": "95b9b9ed",
   "metadata": {},
   "outputs": [
    {
     "data": {
      "text/html": [
       "<div>\n",
       "<style scoped>\n",
       "    .dataframe tbody tr th:only-of-type {\n",
       "        vertical-align: middle;\n",
       "    }\n",
       "\n",
       "    .dataframe tbody tr th {\n",
       "        vertical-align: top;\n",
       "    }\n",
       "\n",
       "    .dataframe thead th {\n",
       "        text-align: right;\n",
       "    }\n",
       "</style>\n",
       "<table border=\"1\" class=\"dataframe\">\n",
       "  <thead>\n",
       "    <tr style=\"text-align: right;\">\n",
       "      <th></th>\n",
       "      <th>Contain</th>\n",
       "      <th>score</th>\n",
       "      <th>ps_ne</th>\n",
       "    </tr>\n",
       "  </thead>\n",
       "  <tbody>\n",
       "    <tr>\n",
       "      <th>0</th>\n",
       "      <td>Bromwell High is a cartoon comedy. It ran at t...</td>\n",
       "      <td>9</td>\n",
       "      <td>pos</td>\n",
       "    </tr>\n",
       "    <tr>\n",
       "      <th>1</th>\n",
       "      <td>Homelessness (or Houselessness as George Carli...</td>\n",
       "      <td>8</td>\n",
       "      <td>pos</td>\n",
       "    </tr>\n",
       "    <tr>\n",
       "      <th>2</th>\n",
       "      <td>Brilliant over-acting by Lesley Ann Warren. Be...</td>\n",
       "      <td>10</td>\n",
       "      <td>pos</td>\n",
       "    </tr>\n",
       "    <tr>\n",
       "      <th>3</th>\n",
       "      <td>This is easily the most underrated film inn th...</td>\n",
       "      <td>7</td>\n",
       "      <td>pos</td>\n",
       "    </tr>\n",
       "    <tr>\n",
       "      <th>4</th>\n",
       "      <td>This is not the typical Mel Brooks film. It wa...</td>\n",
       "      <td>8</td>\n",
       "      <td>pos</td>\n",
       "    </tr>\n",
       "    <tr>\n",
       "      <th>...</th>\n",
       "      <td>...</td>\n",
       "      <td>...</td>\n",
       "      <td>...</td>\n",
       "    </tr>\n",
       "    <tr>\n",
       "      <th>24995</th>\n",
       "      <td>Towards the end of the movie, I felt it was to...</td>\n",
       "      <td>4</td>\n",
       "      <td>neg</td>\n",
       "    </tr>\n",
       "    <tr>\n",
       "      <th>24996</th>\n",
       "      <td>This is the kind of movie that my enemies cont...</td>\n",
       "      <td>3</td>\n",
       "      <td>neg</td>\n",
       "    </tr>\n",
       "    <tr>\n",
       "      <th>24997</th>\n",
       "      <td>I saw 'Descent' last night at the Stockholm Fi...</td>\n",
       "      <td>3</td>\n",
       "      <td>neg</td>\n",
       "    </tr>\n",
       "    <tr>\n",
       "      <th>24998</th>\n",
       "      <td>Some films that you pick up for a pound turn o...</td>\n",
       "      <td>1</td>\n",
       "      <td>neg</td>\n",
       "    </tr>\n",
       "    <tr>\n",
       "      <th>24999</th>\n",
       "      <td>This is one of the dumbest films, I've ever se...</td>\n",
       "      <td>1</td>\n",
       "      <td>neg</td>\n",
       "    </tr>\n",
       "  </tbody>\n",
       "</table>\n",
       "<p>25000 rows × 3 columns</p>\n",
       "</div>"
      ],
      "text/plain": [
       "                                                 Contain  score ps_ne\n",
       "0      Bromwell High is a cartoon comedy. It ran at t...      9   pos\n",
       "1      Homelessness (or Houselessness as George Carli...      8   pos\n",
       "2      Brilliant over-acting by Lesley Ann Warren. Be...     10   pos\n",
       "3      This is easily the most underrated film inn th...      7   pos\n",
       "4      This is not the typical Mel Brooks film. It wa...      8   pos\n",
       "...                                                  ...    ...   ...\n",
       "24995  Towards the end of the movie, I felt it was to...      4   neg\n",
       "24996  This is the kind of movie that my enemies cont...      3   neg\n",
       "24997  I saw 'Descent' last night at the Stockholm Fi...      3   neg\n",
       "24998  Some films that you pick up for a pound turn o...      1   neg\n",
       "24999  This is one of the dumbest films, I've ever se...      1   neg\n",
       "\n",
       "[25000 rows x 3 columns]"
      ]
     },
     "execution_count": 558,
     "metadata": {},
     "output_type": "execute_result"
    }
   ],
   "source": [
    "train"
   ]
  },
  {
   "cell_type": "markdown",
   "id": "993052a7",
   "metadata": {},
   "source": [
    "# data clean"
   ]
  },
  {
   "cell_type": "code",
   "execution_count": 559,
   "id": "e57b4f50",
   "metadata": {},
   "outputs": [],
   "source": [
    "def text_cleaning(text):\n",
    "    forbidden_words = set(stopwords.words('english'))\n",
    "    if text:\n",
    "        text = ' '.join(text.split('.'))\n",
    "        text = re.sub('\\/',' ',text)\n",
    "        text = re.sub(r'\\\\',' ',text)\n",
    "        text = re.sub(r'((http)\\S+)','',text)\n",
    "        text = re.sub(r'\\s+', ' ', re.sub('[^A-Za-z]', ' ', text.strip().lower())).strip()\n",
    "        text = re.sub(r'\\W+', ' ', text.strip().lower()).strip()\n",
    "        text = [word for word in text.split() if word not in forbidden_words]\n",
    "        return \" \".join(text)\n",
    "    return \"\""
   ]
  },
  {
   "cell_type": "code",
   "execution_count": 560,
   "id": "6d067f33",
   "metadata": {},
   "outputs": [],
   "source": [
    "train['Contain'] = train.apply(lambda row:text_cleaning(row['Contain']),axis=1)"
   ]
  },
  {
   "cell_type": "code",
   "execution_count": 561,
   "id": "796d49c7",
   "metadata": {},
   "outputs": [],
   "source": [
    "input_all = train[['Contain','ps_ne']]"
   ]
  },
  {
   "cell_type": "markdown",
   "id": "0f10ea92",
   "metadata": {},
   "source": [
    "# word2vec"
   ]
  },
  {
   "cell_type": "code",
   "execution_count": 562,
   "id": "ebb9bb9b",
   "metadata": {},
   "outputs": [
    {
     "name": "stderr",
     "output_type": "stream",
     "text": [
      "C:\\Users\\kojun\\Anaconda3\\lib\\site-packages\\pandas\\core\\indexing.py:1732: SettingWithCopyWarning: \n",
      "A value is trying to be set on a copy of a slice from a DataFrame\n",
      "\n",
      "See the caveats in the documentation: https://pandas.pydata.org/pandas-docs/stable/user_guide/indexing.html#returning-a-view-versus-a-copy\n",
      "  self._setitem_single_block(indexer, value, name)\n",
      "C:\\Users\\kojun\\Anaconda3\\lib\\site-packages\\pandas\\core\\indexing.py:723: SettingWithCopyWarning: \n",
      "A value is trying to be set on a copy of a slice from a DataFrame\n",
      "\n",
      "See the caveats in the documentation: https://pandas.pydata.org/pandas-docs/stable/user_guide/indexing.html#returning-a-view-versus-a-copy\n",
      "  iloc._setitem_with_indexer(indexer, value, self.name)\n"
     ]
    }
   ],
   "source": [
    "input_all.loc[input_all['ps_ne']=='pos','ps_ne'] = 1\n",
    "input_all.loc[input_all['ps_ne']=='neg','ps_ne'] = 0"
   ]
  },
  {
   "cell_type": "code",
   "execution_count": 563,
   "id": "349c451d",
   "metadata": {},
   "outputs": [
    {
     "data": {
      "text/html": [
       "<div>\n",
       "<style scoped>\n",
       "    .dataframe tbody tr th:only-of-type {\n",
       "        vertical-align: middle;\n",
       "    }\n",
       "\n",
       "    .dataframe tbody tr th {\n",
       "        vertical-align: top;\n",
       "    }\n",
       "\n",
       "    .dataframe thead th {\n",
       "        text-align: right;\n",
       "    }\n",
       "</style>\n",
       "<table border=\"1\" class=\"dataframe\">\n",
       "  <thead>\n",
       "    <tr style=\"text-align: right;\">\n",
       "      <th></th>\n",
       "      <th>Contain</th>\n",
       "      <th>ps_ne</th>\n",
       "    </tr>\n",
       "  </thead>\n",
       "  <tbody>\n",
       "    <tr>\n",
       "      <th>0</th>\n",
       "      <td>bromwell high cartoon comedy ran time programs...</td>\n",
       "      <td>1</td>\n",
       "    </tr>\n",
       "    <tr>\n",
       "      <th>1</th>\n",
       "      <td>homelessness houselessness george carlin state...</td>\n",
       "      <td>1</td>\n",
       "    </tr>\n",
       "    <tr>\n",
       "      <th>2</th>\n",
       "      <td>brilliant acting lesley ann warren best dramat...</td>\n",
       "      <td>1</td>\n",
       "    </tr>\n",
       "    <tr>\n",
       "      <th>3</th>\n",
       "      <td>easily underrated film inn brooks cannon sure ...</td>\n",
       "      <td>1</td>\n",
       "    </tr>\n",
       "    <tr>\n",
       "      <th>4</th>\n",
       "      <td>typical mel brooks film much less slapstick mo...</td>\n",
       "      <td>1</td>\n",
       "    </tr>\n",
       "    <tr>\n",
       "      <th>...</th>\n",
       "      <td>...</td>\n",
       "      <td>...</td>\n",
       "    </tr>\n",
       "    <tr>\n",
       "      <th>24995</th>\n",
       "      <td>towards end movie felt technical felt like cla...</td>\n",
       "      <td>0</td>\n",
       "    </tr>\n",
       "    <tr>\n",
       "      <th>24996</th>\n",
       "      <td>kind movie enemies content watch time bloody t...</td>\n",
       "      <td>0</td>\n",
       "    </tr>\n",
       "    <tr>\n",
       "      <th>24997</th>\n",
       "      <td>saw descent last night stockholm film festival...</td>\n",
       "      <td>0</td>\n",
       "    </tr>\n",
       "    <tr>\n",
       "      <th>24998</th>\n",
       "      <td>films pick pound turn rather good rd century f...</td>\n",
       "      <td>0</td>\n",
       "    </tr>\n",
       "    <tr>\n",
       "      <th>24999</th>\n",
       "      <td>one dumbest films ever seen rips nearly ever t...</td>\n",
       "      <td>0</td>\n",
       "    </tr>\n",
       "  </tbody>\n",
       "</table>\n",
       "<p>25000 rows × 2 columns</p>\n",
       "</div>"
      ],
      "text/plain": [
       "                                                 Contain ps_ne\n",
       "0      bromwell high cartoon comedy ran time programs...     1\n",
       "1      homelessness houselessness george carlin state...     1\n",
       "2      brilliant acting lesley ann warren best dramat...     1\n",
       "3      easily underrated film inn brooks cannon sure ...     1\n",
       "4      typical mel brooks film much less slapstick mo...     1\n",
       "...                                                  ...   ...\n",
       "24995  towards end movie felt technical felt like cla...     0\n",
       "24996  kind movie enemies content watch time bloody t...     0\n",
       "24997  saw descent last night stockholm film festival...     0\n",
       "24998  films pick pound turn rather good rd century f...     0\n",
       "24999  one dumbest films ever seen rips nearly ever t...     0\n",
       "\n",
       "[25000 rows x 2 columns]"
      ]
     },
     "execution_count": 563,
     "metadata": {},
     "output_type": "execute_result"
    }
   ],
   "source": [
    "input_all"
   ]
  },
  {
   "cell_type": "code",
   "execution_count": 564,
   "id": "a3a1658f",
   "metadata": {},
   "outputs": [],
   "source": [
    "vector_size = 400"
   ]
  },
  {
   "cell_type": "code",
   "execution_count": 565,
   "id": "4d9d9c2b",
   "metadata": {},
   "outputs": [],
   "source": [
    "w2v_model = Word2Vec(input_all['Contain'].apply(lambda x: x.split(' ')),vector_size=vector_size,sg=1,min_count=100,workers=20,epochs=20)"
   ]
  },
  {
   "cell_type": "code",
   "execution_count": 566,
   "id": "93b65bf4",
   "metadata": {},
   "outputs": [
    {
     "data": {
      "text/plain": [
       "'bromwell high cartoon comedy ran time programs school life teachers years teaching profession lead believe bromwell high satire much closer reality teachers scramble survive financially insightful students see right pathetic teachers pomp pettiness whole situation remind schools knew students saw episode student repeatedly tried burn school immediately recalled high classic line inspector sack one teachers student welcome bromwell high expect many adults age think bromwell high far fetched pity'"
      ]
     },
     "execution_count": 566,
     "metadata": {},
     "output_type": "execute_result"
    }
   ],
   "source": [
    "input_all.loc[0,'Contain']"
   ]
  },
  {
   "cell_type": "code",
   "execution_count": 567,
   "id": "823b7cf1",
   "metadata": {},
   "outputs": [],
   "source": [
    "# vec=[]\n",
    "# for word in input_all.loc[0,'Contain'].split(' '):\n",
    "#     vec.append(w2v_model.wv[word])\n",
    "# vec = np.array(vec)\n",
    "# vec = np.mean(vec,axis=0)"
   ]
  },
  {
   "cell_type": "code",
   "execution_count": 568,
   "id": "9aa734cc",
   "metadata": {},
   "outputs": [],
   "source": [
    "def average_verc(df):\n",
    "    vec =[]\n",
    "    for word in df.split(' '):\n",
    "        if word in w2v_model.wv.index_to_key:\n",
    "            vec.append(w2v_model.wv[word])\n",
    "        else:\n",
    "            pass\n",
    "    vec = np.array(vec)\n",
    "    vec = np.mean(vec,axis=0)\n",
    "    return vec"
   ]
  },
  {
   "cell_type": "code",
   "execution_count": 569,
   "id": "5f878b08",
   "metadata": {},
   "outputs": [],
   "source": [
    "test = input_all.apply(lambda row:average_verc(row['Contain']),axis=1)"
   ]
  },
  {
   "cell_type": "code",
   "execution_count": 570,
   "id": "c5240cc1",
   "metadata": {},
   "outputs": [],
   "source": [
    "g= np.empty(shape=(25000,vector_size))\n",
    "for i in range(len(test)):\n",
    "    g[i] = test[i]\n",
    "g=pd.DataFrame(g)"
   ]
  },
  {
   "cell_type": "code",
   "execution_count": 571,
   "id": "0b5d1fc1",
   "metadata": {},
   "outputs": [],
   "source": [
    "g['label'] = input_all['ps_ne']"
   ]
  },
  {
   "cell_type": "markdown",
   "id": "f85bae75",
   "metadata": {},
   "source": [
    "# train / vali split"
   ]
  },
  {
   "cell_type": "code",
   "execution_count": 572,
   "id": "3f609c68",
   "metadata": {},
   "outputs": [],
   "source": [
    "for i in range(50):\n",
    "    g=shuffle(g)\n",
    "g = g.reset_index(drop=True)"
   ]
  },
  {
   "cell_type": "code",
   "execution_count": 573,
   "id": "cbec23f6",
   "metadata": {},
   "outputs": [],
   "source": [
    "input_x = g.drop('label',axis=1)\n",
    "input_y = g['label']"
   ]
  },
  {
   "cell_type": "code",
   "execution_count": 574,
   "id": "b3f5fc40",
   "metadata": {},
   "outputs": [],
   "source": [
    "train_x,valid_x,train_y,valid_y = train_test_split(input_x,input_y,test_size=0.2)"
   ]
  },
  {
   "cell_type": "code",
   "execution_count": 575,
   "id": "5cc41566",
   "metadata": {},
   "outputs": [
    {
     "data": {
      "text/plain": [
       "((20000, 400), (5000, 400), (20000,), (5000,))"
      ]
     },
     "execution_count": 575,
     "metadata": {},
     "output_type": "execute_result"
    }
   ],
   "source": [
    "train_x.shape,valid_x.shape,train_y.shape,valid_y.shape"
   ]
  },
  {
   "cell_type": "code",
   "execution_count": 576,
   "id": "cecc7f0c",
   "metadata": {},
   "outputs": [],
   "source": [
    "train_y = train_y.astype('float16')\n",
    "valid_y = valid_y.astype('float16')"
   ]
  },
  {
   "cell_type": "markdown",
   "id": "524a70e2",
   "metadata": {},
   "source": [
    "# Model"
   ]
  },
  {
   "cell_type": "code",
   "execution_count": 658,
   "id": "3b5c696d",
   "metadata": {},
   "outputs": [
    {
     "name": "stdout",
     "output_type": "stream",
     "text": [
      "Model: \"sequential_22\"\n",
      "_________________________________________________________________\n",
      " Layer (type)                Output Shape              Param #   \n",
      "=================================================================\n",
      " flatten_22 (Flatten)        (None, 400)               0         \n",
      "                                                                 \n",
      " dense_61 (Dense)            (None, 50)                20050     \n",
      "                                                                 \n",
      " batch_normalization_2 (Batc  (None, 50)               200       \n",
      " hNormalization)                                                 \n",
      "                                                                 \n",
      " dense_62 (Dense)            (None, 2)                 102       \n",
      "                                                                 \n",
      "=================================================================\n",
      "Total params: 20,352\n",
      "Trainable params: 20,252\n",
      "Non-trainable params: 100\n",
      "_________________________________________________________________\n"
     ]
    }
   ],
   "source": [
    "req = 1e-2\n",
    "#,kernel_regularizer=l2(req),bias_regularizer=l2(req)\n",
    "DNN_model = tf.keras.models.Sequential([\n",
    "    #input layer\n",
    "    Flatten(input_shape=(vector_size,)),\n",
    "    #hidden layer\n",
    "    Dense(units=50,activation='relu',kernel_initializer='he_uniform',kernel_regularizer=l2(req),bias_regularizer=l2(req)),\n",
    "    BatchNormalization(),\n",
    "    #output layer\n",
    "    Dense(units=2,activation='sigmoid') #softmax\n",
    "])\n",
    "\n",
    "DNN_model.summary()\n"
   ]
  },
  {
   "cell_type": "code",
   "execution_count": 678,
   "id": "5b51cc7a",
   "metadata": {},
   "outputs": [],
   "source": [
    "optimizer = tf.keras.optimizers.Adam(learning_rate=1e-3)\n",
    "\n",
    "loss = tf.keras.losses.SparseCategoricalCrossentropy()\n",
    "\n",
    "DNN_model.compile(optimizer=optimizer ,loss=loss ,metrics=['accuracy'])\n",
    "\n",
    "epock=80\n",
    "batch_size= 80\n",
    "\n",
    "\n",
    "def scheler(epoch,lr):\n",
    "    if epoch < 25:\n",
    "        return lr\n",
    "    else:\n",
    "        return lr*np.exp(-0.1)\n",
    "    \n",
    "call = tf.keras.callbacks.LearningRateScheduler(scheler)"
   ]
  },
  {
   "cell_type": "code",
   "execution_count": 679,
   "id": "feab3ba3",
   "metadata": {
    "scrolled": true
   },
   "outputs": [
    {
     "name": "stdout",
     "output_type": "stream",
     "text": [
      "Epoch 1/80\n",
      "250/250 [==============================] - 1s 4ms/step - loss: 0.3324 - accuracy: 0.8621 - val_loss: 0.4324 - val_accuracy: 0.8232 - lr: 0.0010\n",
      "Epoch 2/80\n",
      "250/250 [==============================] - 1s 4ms/step - loss: 0.3339 - accuracy: 0.8609 - val_loss: 0.3321 - val_accuracy: 0.8648 - lr: 0.0010\n",
      "Epoch 3/80\n",
      "250/250 [==============================] - 1s 5ms/step - loss: 0.3271 - accuracy: 0.8590 - val_loss: 0.3279 - val_accuracy: 0.8688 - lr: 0.0010\n",
      "Epoch 4/80\n",
      "250/250 [==============================] - 1s 5ms/step - loss: 0.3241 - accuracy: 0.8651 - val_loss: 0.5136 - val_accuracy: 0.7830 - lr: 0.0010\n",
      "Epoch 5/80\n",
      "250/250 [==============================] - 1s 5ms/step - loss: 0.3335 - accuracy: 0.8619 - val_loss: 0.3358 - val_accuracy: 0.8708 - lr: 0.0010\n",
      "Epoch 6/80\n",
      "250/250 [==============================] - 1s 5ms/step - loss: 0.3253 - accuracy: 0.8637 - val_loss: 0.3377 - val_accuracy: 0.8640 - lr: 0.0010\n",
      "Epoch 7/80\n",
      "250/250 [==============================] - 1s 5ms/step - loss: 0.3238 - accuracy: 0.8655 - val_loss: 0.3347 - val_accuracy: 0.8696 - lr: 0.0010\n",
      "Epoch 8/80\n",
      "250/250 [==============================] - 1s 5ms/step - loss: 0.3243 - accuracy: 0.8668 - val_loss: 0.3507 - val_accuracy: 0.8616 - lr: 0.0010\n",
      "Epoch 9/80\n",
      "250/250 [==============================] - 1s 5ms/step - loss: 0.3269 - accuracy: 0.8663 - val_loss: 0.5716 - val_accuracy: 0.7662 - lr: 0.0010\n",
      "Epoch 10/80\n",
      "250/250 [==============================] - 1s 5ms/step - loss: 0.3276 - accuracy: 0.8655 - val_loss: 0.3843 - val_accuracy: 0.8394 - lr: 0.0010\n",
      "Epoch 11/80\n",
      "250/250 [==============================] - 1s 5ms/step - loss: 0.3270 - accuracy: 0.8653 - val_loss: 0.3569 - val_accuracy: 0.8540 - lr: 0.0010\n",
      "Epoch 12/80\n",
      "250/250 [==============================] - 1s 5ms/step - loss: 0.3247 - accuracy: 0.8661 - val_loss: 0.3361 - val_accuracy: 0.8708 - lr: 0.0010\n",
      "Epoch 13/80\n",
      "250/250 [==============================] - 1s 5ms/step - loss: 0.3234 - accuracy: 0.8671 - val_loss: 0.3397 - val_accuracy: 0.8696 - lr: 0.0010\n",
      "Epoch 14/80\n",
      "250/250 [==============================] - 1s 5ms/step - loss: 0.3269 - accuracy: 0.8653 - val_loss: 0.4073 - val_accuracy: 0.8294 - lr: 0.0010\n",
      "Epoch 15/80\n",
      "250/250 [==============================] - 1s 5ms/step - loss: 0.3288 - accuracy: 0.8665 - val_loss: 0.3379 - val_accuracy: 0.8650 - lr: 0.0010\n",
      "Epoch 16/80\n",
      "250/250 [==============================] - 1s 5ms/step - loss: 0.3325 - accuracy: 0.8629 - val_loss: 0.3759 - val_accuracy: 0.8436 - lr: 0.0010\n",
      "Epoch 17/80\n",
      "250/250 [==============================] - 1s 5ms/step - loss: 0.3268 - accuracy: 0.8652 - val_loss: 0.4608 - val_accuracy: 0.8068 - lr: 0.0010\n",
      "Epoch 18/80\n",
      "250/250 [==============================] - 1s 4ms/step - loss: 0.3242 - accuracy: 0.8668 - val_loss: 0.3462 - val_accuracy: 0.8654 - lr: 0.0010\n",
      "Epoch 19/80\n",
      "250/250 [==============================] - 1s 4ms/step - loss: 0.3231 - accuracy: 0.8679 - val_loss: 0.3323 - val_accuracy: 0.8724 - lr: 0.0010\n",
      "Epoch 20/80\n",
      "250/250 [==============================] - 1s 4ms/step - loss: 0.3271 - accuracy: 0.8670 - val_loss: 0.3308 - val_accuracy: 0.8726 - lr: 0.0010\n",
      "Epoch 21/80\n",
      "250/250 [==============================] - 1s 5ms/step - loss: 0.3219 - accuracy: 0.8686 - val_loss: 0.3440 - val_accuracy: 0.8678 - lr: 0.0010\n",
      "Epoch 22/80\n",
      "250/250 [==============================] - 1s 4ms/step - loss: 0.3230 - accuracy: 0.8687 - val_loss: 0.3525 - val_accuracy: 0.8616 - lr: 0.0010\n",
      "Epoch 23/80\n",
      "250/250 [==============================] - 1s 5ms/step - loss: 0.3216 - accuracy: 0.8685 - val_loss: 0.3340 - val_accuracy: 0.8720 - lr: 0.0010\n",
      "Epoch 24/80\n",
      "250/250 [==============================] - 1s 5ms/step - loss: 0.3221 - accuracy: 0.8675 - val_loss: 0.3858 - val_accuracy: 0.8460 - lr: 0.0010\n",
      "Epoch 25/80\n",
      "250/250 [==============================] - 1s 5ms/step - loss: 0.3227 - accuracy: 0.8676 - val_loss: 0.3932 - val_accuracy: 0.8402 - lr: 0.0010\n",
      "Epoch 26/80\n",
      "250/250 [==============================] - 1s 5ms/step - loss: 0.3270 - accuracy: 0.8665 - val_loss: 0.3297 - val_accuracy: 0.8742 - lr: 9.0484e-04\n",
      "Epoch 27/80\n",
      "250/250 [==============================] - 1s 5ms/step - loss: 0.3201 - accuracy: 0.8690 - val_loss: 0.3525 - val_accuracy: 0.8608 - lr: 8.1873e-04\n",
      "Epoch 28/80\n",
      "250/250 [==============================] - 1s 5ms/step - loss: 0.3191 - accuracy: 0.8704 - val_loss: 0.3479 - val_accuracy: 0.8614 - lr: 7.4082e-04\n",
      "Epoch 29/80\n",
      "250/250 [==============================] - 1s 5ms/step - loss: 0.3170 - accuracy: 0.8698 - val_loss: 0.3308 - val_accuracy: 0.8726 - lr: 6.7032e-04\n",
      "Epoch 30/80\n",
      "250/250 [==============================] - 1s 5ms/step - loss: 0.3121 - accuracy: 0.8731 - val_loss: 0.3977 - val_accuracy: 0.8356 - lr: 6.0653e-04\n",
      "Epoch 31/80\n",
      "250/250 [==============================] - 1s 5ms/step - loss: 0.3132 - accuracy: 0.8712 - val_loss: 0.3421 - val_accuracy: 0.8644 - lr: 5.4881e-04\n",
      "Epoch 32/80\n",
      "250/250 [==============================] - 1s 5ms/step - loss: 0.3105 - accuracy: 0.8725 - val_loss: 0.3406 - val_accuracy: 0.8668 - lr: 4.9659e-04\n",
      "Epoch 33/80\n",
      "250/250 [==============================] - 1s 5ms/step - loss: 0.3110 - accuracy: 0.8737 - val_loss: 0.3335 - val_accuracy: 0.8680 - lr: 4.4933e-04\n",
      "Epoch 34/80\n",
      "250/250 [==============================] - 1s 4ms/step - loss: 0.3083 - accuracy: 0.8741 - val_loss: 0.3318 - val_accuracy: 0.8686 - lr: 4.0657e-04\n",
      "Epoch 35/80\n",
      "250/250 [==============================] - 1s 5ms/step - loss: 0.3050 - accuracy: 0.8760 - val_loss: 0.3284 - val_accuracy: 0.8706 - lr: 3.6788e-04\n",
      "Epoch 36/80\n",
      "250/250 [==============================] - 1s 5ms/step - loss: 0.3045 - accuracy: 0.8755 - val_loss: 0.3360 - val_accuracy: 0.8670 - lr: 3.3287e-04\n",
      "Epoch 37/80\n",
      "250/250 [==============================] - 1s 5ms/step - loss: 0.3030 - accuracy: 0.8763 - val_loss: 0.3336 - val_accuracy: 0.8702 - lr: 3.0119e-04\n",
      "Epoch 38/80\n",
      "250/250 [==============================] - 1s 5ms/step - loss: 0.3014 - accuracy: 0.8776 - val_loss: 0.3366 - val_accuracy: 0.8688 - lr: 2.7253e-04\n",
      "Epoch 39/80\n",
      "250/250 [==============================] - 1s 5ms/step - loss: 0.3001 - accuracy: 0.8799 - val_loss: 0.3279 - val_accuracy: 0.8710 - lr: 2.4660e-04\n",
      "Epoch 40/80\n",
      "250/250 [==============================] - 1s 4ms/step - loss: 0.3000 - accuracy: 0.8778 - val_loss: 0.3304 - val_accuracy: 0.8702 - lr: 2.2313e-04\n",
      "Epoch 41/80\n",
      "250/250 [==============================] - 1s 4ms/step - loss: 0.2979 - accuracy: 0.8787 - val_loss: 0.3312 - val_accuracy: 0.8696 - lr: 2.0190e-04\n",
      "Epoch 42/80\n",
      "250/250 [==============================] - 1s 4ms/step - loss: 0.2985 - accuracy: 0.8785 - val_loss: 0.3323 - val_accuracy: 0.8694 - lr: 1.8268e-04\n",
      "Epoch 43/80\n",
      "250/250 [==============================] - 1s 4ms/step - loss: 0.2977 - accuracy: 0.8803 - val_loss: 0.3289 - val_accuracy: 0.8738 - lr: 1.6530e-04\n",
      "Epoch 44/80\n",
      "250/250 [==============================] - 1s 5ms/step - loss: 0.2966 - accuracy: 0.8781 - val_loss: 0.3280 - val_accuracy: 0.8728 - lr: 1.4957e-04\n",
      "Epoch 45/80\n",
      "250/250 [==============================] - 1s 5ms/step - loss: 0.2938 - accuracy: 0.8812 - val_loss: 0.3289 - val_accuracy: 0.8708 - lr: 1.3534e-04\n",
      "Epoch 46/80\n",
      "250/250 [==============================] - 1s 4ms/step - loss: 0.2937 - accuracy: 0.8808 - val_loss: 0.3310 - val_accuracy: 0.8702 - lr: 1.2246e-04\n",
      "Epoch 47/80\n",
      "250/250 [==============================] - 1s 4ms/step - loss: 0.2951 - accuracy: 0.8798 - val_loss: 0.3335 - val_accuracy: 0.8688 - lr: 1.1080e-04\n",
      "Epoch 48/80\n",
      "250/250 [==============================] - 1s 4ms/step - loss: 0.2939 - accuracy: 0.8808 - val_loss: 0.3284 - val_accuracy: 0.8694 - lr: 1.0026e-04\n",
      "Epoch 49/80\n",
      "250/250 [==============================] - 1s 5ms/step - loss: 0.2936 - accuracy: 0.8809 - val_loss: 0.3276 - val_accuracy: 0.8698 - lr: 9.0718e-05\n",
      "Epoch 50/80\n",
      "250/250 [==============================] - 1s 4ms/step - loss: 0.2924 - accuracy: 0.8833 - val_loss: 0.3278 - val_accuracy: 0.8714 - lr: 8.2085e-05\n",
      "Epoch 51/80\n",
      "250/250 [==============================] - 1s 4ms/step - loss: 0.2930 - accuracy: 0.8810 - val_loss: 0.3278 - val_accuracy: 0.8690 - lr: 7.4274e-05\n",
      "Epoch 52/80\n",
      "250/250 [==============================] - 1s 4ms/step - loss: 0.2922 - accuracy: 0.8806 - val_loss: 0.3292 - val_accuracy: 0.8704 - lr: 6.7206e-05\n"
     ]
    },
    {
     "name": "stdout",
     "output_type": "stream",
     "text": [
      "Epoch 53/80\n",
      "250/250 [==============================] - 1s 4ms/step - loss: 0.2910 - accuracy: 0.8828 - val_loss: 0.3299 - val_accuracy: 0.8704 - lr: 6.0810e-05\n",
      "Epoch 54/80\n",
      "250/250 [==============================] - 1s 4ms/step - loss: 0.2924 - accuracy: 0.8824 - val_loss: 0.3275 - val_accuracy: 0.8688 - lr: 5.5023e-05\n",
      "Epoch 55/80\n",
      "250/250 [==============================] - 1s 5ms/step - loss: 0.2906 - accuracy: 0.8812 - val_loss: 0.3306 - val_accuracy: 0.8696 - lr: 4.9787e-05\n",
      "Epoch 56/80\n",
      "250/250 [==============================] - 1s 5ms/step - loss: 0.2927 - accuracy: 0.8808 - val_loss: 0.3279 - val_accuracy: 0.8708 - lr: 4.5049e-05\n",
      "Epoch 57/80\n",
      "250/250 [==============================] - 1s 4ms/step - loss: 0.2888 - accuracy: 0.8837 - val_loss: 0.3279 - val_accuracy: 0.8694 - lr: 4.0762e-05\n",
      "Epoch 58/80\n",
      "250/250 [==============================] - 1s 5ms/step - loss: 0.2901 - accuracy: 0.8827 - val_loss: 0.3281 - val_accuracy: 0.8706 - lr: 3.6883e-05\n",
      "Epoch 59/80\n",
      "250/250 [==============================] - 1s 4ms/step - loss: 0.2906 - accuracy: 0.8816 - val_loss: 0.3280 - val_accuracy: 0.8700 - lr: 3.3373e-05\n",
      "Epoch 60/80\n",
      "250/250 [==============================] - 1s 4ms/step - loss: 0.2908 - accuracy: 0.8830 - val_loss: 0.3281 - val_accuracy: 0.8690 - lr: 3.0197e-05\n",
      "Epoch 61/80\n",
      "250/250 [==============================] - 1s 4ms/step - loss: 0.2900 - accuracy: 0.8829 - val_loss: 0.3279 - val_accuracy: 0.8682 - lr: 2.7324e-05\n",
      "Epoch 62/80\n",
      "250/250 [==============================] - 1s 4ms/step - loss: 0.2896 - accuracy: 0.8810 - val_loss: 0.3278 - val_accuracy: 0.8676 - lr: 2.4724e-05\n",
      "Epoch 63/80\n",
      "250/250 [==============================] - 1s 4ms/step - loss: 0.2890 - accuracy: 0.8831 - val_loss: 0.3279 - val_accuracy: 0.8684 - lr: 2.2371e-05\n",
      "Epoch 64/80\n",
      "250/250 [==============================] - 1s 5ms/step - loss: 0.2909 - accuracy: 0.8839 - val_loss: 0.3283 - val_accuracy: 0.8704 - lr: 2.0242e-05\n",
      "Epoch 65/80\n",
      "250/250 [==============================] - 1s 5ms/step - loss: 0.2876 - accuracy: 0.8817 - val_loss: 0.3282 - val_accuracy: 0.8700 - lr: 1.8316e-05\n",
      "Epoch 66/80\n",
      "250/250 [==============================] - 1s 4ms/step - loss: 0.2910 - accuracy: 0.8814 - val_loss: 0.3282 - val_accuracy: 0.8706 - lr: 1.6573e-05\n",
      "Epoch 67/80\n",
      "250/250 [==============================] - 1s 4ms/step - loss: 0.2900 - accuracy: 0.8828 - val_loss: 0.3282 - val_accuracy: 0.8700 - lr: 1.4996e-05\n",
      "Epoch 68/80\n",
      "250/250 [==============================] - 1s 4ms/step - loss: 0.2898 - accuracy: 0.8827 - val_loss: 0.3282 - val_accuracy: 0.8700 - lr: 1.3569e-05\n",
      "Epoch 69/80\n",
      "250/250 [==============================] - 1s 4ms/step - loss: 0.2898 - accuracy: 0.8824 - val_loss: 0.3281 - val_accuracy: 0.8700 - lr: 1.2277e-05\n",
      "Epoch 70/80\n",
      "250/250 [==============================] - 1s 4ms/step - loss: 0.2889 - accuracy: 0.8835 - val_loss: 0.3278 - val_accuracy: 0.8696 - lr: 1.1109e-05\n",
      "Epoch 71/80\n",
      "250/250 [==============================] - 1s 4ms/step - loss: 0.2886 - accuracy: 0.8820 - val_loss: 0.3280 - val_accuracy: 0.8684 - lr: 1.0052e-05\n",
      "Epoch 72/80\n",
      "250/250 [==============================] - 1s 5ms/step - loss: 0.2896 - accuracy: 0.8813 - val_loss: 0.3283 - val_accuracy: 0.8706 - lr: 9.0953e-06\n",
      "Epoch 73/80\n",
      "250/250 [==============================] - 1s 5ms/step - loss: 0.2890 - accuracy: 0.8835 - val_loss: 0.3281 - val_accuracy: 0.8696 - lr: 8.2297e-06\n",
      "Epoch 74/80\n",
      "250/250 [==============================] - 1s 4ms/step - loss: 0.2875 - accuracy: 0.8859 - val_loss: 0.3280 - val_accuracy: 0.8684 - lr: 7.4466e-06\n",
      "Epoch 75/80\n",
      "250/250 [==============================] - 1s 4ms/step - loss: 0.2889 - accuracy: 0.8814 - val_loss: 0.3281 - val_accuracy: 0.8688 - lr: 6.7379e-06\n",
      "Epoch 76/80\n",
      "250/250 [==============================] - 1s 4ms/step - loss: 0.2889 - accuracy: 0.8835 - val_loss: 0.3281 - val_accuracy: 0.8696 - lr: 6.0967e-06\n",
      "Epoch 77/80\n",
      "250/250 [==============================] - 1s 4ms/step - loss: 0.2890 - accuracy: 0.8824 - val_loss: 0.3281 - val_accuracy: 0.8686 - lr: 5.5166e-06\n",
      "Epoch 78/80\n",
      "250/250 [==============================] - 1s 4ms/step - loss: 0.2880 - accuracy: 0.8842 - val_loss: 0.3280 - val_accuracy: 0.8682 - lr: 4.9916e-06\n",
      "Epoch 79/80\n",
      "250/250 [==============================] - 1s 4ms/step - loss: 0.2883 - accuracy: 0.8813 - val_loss: 0.3285 - val_accuracy: 0.8698 - lr: 4.5166e-06\n",
      "Epoch 80/80\n",
      "250/250 [==============================] - 1s 4ms/step - loss: 0.2886 - accuracy: 0.8834 - val_loss: 0.3281 - val_accuracy: 0.8684 - lr: 4.0868e-06\n"
     ]
    }
   ],
   "source": [
    "History = DNN_model.fit(x=train_x, \n",
    "                        y=train_y,\n",
    "                        batch_size=batch_size,\n",
    "                        epochs=epock,\n",
    "                        validation_data=(valid_x,valid_y),\n",
    "                        callbacks=[call])"
   ]
  },
  {
   "cell_type": "code",
   "execution_count": 680,
   "id": "ed35415f",
   "metadata": {},
   "outputs": [],
   "source": [
    "loss = History.history[\"loss\"]\n",
    "accuracy = History.history[\"accuracy\"]\n",
    "val_loss = History.history[\"val_loss\"]\n",
    "val_accuracy = History.history[\"val_accuracy\"]"
   ]
  },
  {
   "cell_type": "code",
   "execution_count": 681,
   "id": "136d4018",
   "metadata": {},
   "outputs": [
    {
     "data": {
      "image/png": "[encoded data removed]",
      "text/plain": [
       "<Figure size 720x432 with 1 Axes>"
      ]
     },
     "metadata": {
      "needs_background": "light"
     },
     "output_type": "display_data"
    }
   ],
   "source": [
    "# loss\n",
    "plt.figure(figsize=(10,6))\n",
    "plt.plot(loss, label=\"train loss\")\n",
    "plt.plot(val_loss, label=\"val loss\")\n",
    "plt.title(\"Loss\", fontsize=20)\n",
    "plt.xlabel(\"epoch\", fontsize=16)\n",
    "plt.ylabel(\"loss\", fontsize=16)\n",
    "plt.legend()\n",
    "plt.show()"
   ]
  },
  {
   "cell_type": "code",
   "execution_count": 682,
   "id": "3cc61a05",
   "metadata": {},
   "outputs": [
    {
     "data": {
      "image/png": "[encoded data removed]",
      "text/plain": [
       "<Figure size 720x432 with 1 Axes>"
      ]
     },
     "metadata": {
      "needs_background": "light"
     },
     "output_type": "display_data"
    }
   ],
   "source": [
    "# accuracy\n",
    "plt.figure(figsize=(10,6))\n",
    "plt.plot(accuracy, label=\"train acc\")\n",
    "plt.plot(val_accuracy, label=\"val acc\")\n",
    "plt.title(\"Accuracy\", fontsize=20)\n",
    "plt.xlabel(\"epoch\", fontsize=16)\n",
    "plt.ylabel(\"accuracy\", fontsize=16)\n",
    "plt.legend()\n",
    "plt.show()"
   ]
  },
  {
   "cell_type": "markdown",
   "id": "17a3bfc2",
   "metadata": {},
   "source": [
    "# test"
   ]
  },
  {
   "cell_type": "code",
   "execution_count": 683,
   "id": "ee6ff9ef",
   "metadata": {},
   "outputs": [],
   "source": [
    "test_neg_list = os.listdir('LMDB/aclImdb_v1/aclImdb/test/neg')\n",
    "test_pos_list = os.listdir('LMDB/aclImdb_v1/aclImdb/test/pos')"
   ]
  },
  {
   "cell_type": "code",
   "execution_count": 684,
   "id": "83f5a862",
   "metadata": {},
   "outputs": [],
   "source": [
    "pos_path = 'C:/Users/kojun/Desktop/ML/deep learning/文字/LMDB/aclImdb_v1/aclImdb/test/pos/'\n",
    "neg_path = 'C:/Users/kojun/Desktop/ML/deep learning/文字/LMDB/aclImdb_v1/aclImdb/test/neg/'"
   ]
  },
  {
   "cell_type": "code",
   "execution_count": 685,
   "id": "fc811a05",
   "metadata": {},
   "outputs": [
    {
     "name": "stderr",
     "output_type": "stream",
     "text": [
      "100%|█████████████████████████████████████████████████████████████████████████| 12500/12500 [00:00<00:00, 29584.29it/s]\n"
     ]
    }
   ],
   "source": [
    "test_one=[]\n",
    "test_pos_score = []\n",
    "test_pos_content = []\n",
    "for i in tqdm(range(len(test_pos_list))):\n",
    "    with open(os.path.join(pos_path,test_pos_list[i]),'r',encoding=\"utf-8\") as f:\n",
    "        test_pos_score.append(int(test_pos_list[i].split('.')[0].split('_')[1]))\n",
    "        test_pos_content.append(f.read())\n",
    "        test_one.append('pos')"
   ]
  },
  {
   "cell_type": "code",
   "execution_count": 686,
   "id": "4ea88d66",
   "metadata": {},
   "outputs": [
    {
     "name": "stderr",
     "output_type": "stream",
     "text": [
      "100%|█████████████████████████████████████████████████████████████████████████| 12500/12500 [00:00<00:00, 26472.79it/s]\n"
     ]
    }
   ],
   "source": [
    "test_zero=[]\n",
    "test_neg_score = []\n",
    "test_neg_content = []\n",
    "for i in tqdm(range(len(test_neg_list))):\n",
    "    with open(os.path.join(neg_path,test_neg_list[i]),'r',encoding=\"utf-8\") as f:\n",
    "        test_neg_score.append(int(test_neg_list[i].split('.')[0].split('_')[1]))\n",
    "        test_neg_content.append(f.read())\n",
    "        test_zero.append('neg')"
   ]
  },
  {
   "cell_type": "code",
   "execution_count": 687,
   "id": "112b6356",
   "metadata": {},
   "outputs": [],
   "source": [
    "test_call_content = test_pos_content+test_neg_content\n",
    "test_call_score = test_pos_score+test_neg_score\n",
    "test_call_one_zero = test_one+test_zero"
   ]
  },
  {
   "cell_type": "code",
   "execution_count": 688,
   "id": "dc3cb0bb",
   "metadata": {},
   "outputs": [],
   "source": [
    "test = pd.DataFrame()"
   ]
  },
  {
   "cell_type": "code",
   "execution_count": 689,
   "id": "cbba3208",
   "metadata": {},
   "outputs": [],
   "source": [
    "test['Contain'] = test_call_content\n",
    "test['score'] = test_call_score\n",
    "test['ps_ne'] = test_call_one_zero"
   ]
  },
  {
   "cell_type": "code",
   "execution_count": 690,
   "id": "ef370739",
   "metadata": {},
   "outputs": [],
   "source": [
    "test.loc[test['ps_ne']=='pos','ps_ne'] = 1\n",
    "test.loc[test['ps_ne']=='neg','ps_ne'] = 0\n",
    "test['ps_ne'] = test['ps_ne'].astype('float16')"
   ]
  },
  {
   "cell_type": "code",
   "execution_count": 691,
   "id": "84f67d25",
   "metadata": {},
   "outputs": [],
   "source": [
    "test['Contain'] = test.apply(lambda row:text_cleaning(row['Contain']),axis=1)\n",
    "test_1 = test.apply(lambda row:average_verc(row['Contain']),axis=1)"
   ]
  },
  {
   "cell_type": "code",
   "execution_count": 692,
   "id": "8f5b5e0a",
   "metadata": {},
   "outputs": [
    {
     "data": {
      "text/plain": [
       "0        [0.0377221, -0.11066994, -0.0011112182, -0.044...\n",
       "1        [0.017637972, -0.030959306, 0.048518356, -0.00...\n",
       "2        [0.06898828, -0.04384847, 0.009476686, -0.0141...\n",
       "3        [0.06971887, -0.044306874, 0.02073427, 0.01709...\n",
       "4        [0.07801717, -0.07226931, -0.0037782707, -0.01...\n",
       "                               ...                        \n",
       "24995    [0.020210724, -0.10508037, 0.010371659, 0.0123...\n",
       "24996    [0.058934994, -0.093938656, 0.02708537, 0.0130...\n",
       "24997    [0.04310523, -0.031486597, 0.0023403151, -0.00...\n",
       "24998    [0.034909923, -0.056259338, -0.009873354, 0.01...\n",
       "24999    [0.08066439, -0.05083632, 0.006046505, -0.0047...\n",
       "Length: 25000, dtype: object"
      ]
     },
     "execution_count": 692,
     "metadata": {},
     "output_type": "execute_result"
    }
   ],
   "source": [
    "test_1"
   ]
  },
  {
   "cell_type": "code",
   "execution_count": 693,
   "id": "224e7990",
   "metadata": {},
   "outputs": [],
   "source": [
    "g= np.empty(shape=(25000,vector_size))\n",
    "for i in range(len(test)):\n",
    "    g[i] = test_1[i]\n",
    "g=pd.DataFrame(g)"
   ]
  },
  {
   "cell_type": "code",
   "execution_count": 694,
   "id": "8ae661f0",
   "metadata": {},
   "outputs": [
    {
     "name": "stdout",
     "output_type": "stream",
     "text": [
      "782/782 [==============================] - 1s 1ms/step\n"
     ]
    }
   ],
   "source": [
    "y_pred = DNN_model.predict(g)\n",
    "y_pred = np.argmax(y_pred,axis=1)"
   ]
  },
  {
   "cell_type": "code",
   "execution_count": 695,
   "id": "bb1211e0",
   "metadata": {},
   "outputs": [
    {
     "data": {
      "text/plain": [
       "0.86156"
      ]
     },
     "execution_count": 695,
     "metadata": {},
     "output_type": "execute_result"
    }
   ],
   "source": [
    "accuracy_score(test['ps_ne'],y_pred)"
   ]
  },
  {
   "cell_type": "code",
   "execution_count": 696,
   "id": "9ca3a2ad",
   "metadata": {},
   "outputs": [
    {
     "data": {
      "text/plain": [
       "array([[10830,  1670],\n",
       "       [ 1791, 10709]], dtype=int64)"
      ]
     },
     "execution_count": 696,
     "metadata": {},
     "output_type": "execute_result"
    }
   ],
   "source": [
    "confusion_matrix(test['ps_ne'],y_pred)"
   ]
  },
  {
   "cell_type": "code",
   "execution_count": null,
   "id": "e2a24d21",
   "metadata": {},
   "outputs": [],
   "source": [
    "y_pred=dnn_modedl.predict(test_w2v_x)"
   ]
  },
  {
   "cell_type": "code",
   "execution_count": null,
   "id": "4975eaf3",
   "metadata": {},
   "outputs": [],
   "source": []
  },
  {
   "cell_type": "code",
   "execution_count": null,
   "id": "b3310e03",
   "metadata": {},
   "outputs": [],
   "source": []
  }
 ],
 "metadata": {
  "kernelspec": {
   "display_name": "Python 3 (ipykernel)",
   "language": "python",
   "name": "python3"
  },
  "language_info": {
   "codemirror_mode": {
    "name": "ipython",
    "version": 3
   },
   "file_extension": ".py",
   "mimetype": "text/x-python",
   "name": "python",
   "nbconvert_exporter": "python",
   "pygments_lexer": "ipython3",
   "version": "3.9.7"
  }
 },
 "nbformat": 4,
 "nbformat_minor": 5
}
